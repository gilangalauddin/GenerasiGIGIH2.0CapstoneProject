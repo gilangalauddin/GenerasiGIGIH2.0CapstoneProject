{
  "nbformat": 4,
  "nbformat_minor": 0,
  "metadata": {
    "colab": {
      "provenance": []
    },
    "kernelspec": {
      "name": "python3",
      "display_name": "Python 3"
    },
    "language_info": {
      "name": "python"
    }
  },
  "cells": [
    {
      "cell_type": "code",
      "execution_count": null,
      "metadata": {
        "colab": {
          "base_uri": "https://localhost:8080/"
        },
        "id": "QVo1N7TjQ-iH",
        "outputId": "fa8700d8-f7ca-4b10-b209-b676d8d01249"
      },
      "outputs": [
        {
          "output_type": "stream",
          "name": "stdout",
          "text": [
            "Mounted at /content/gdrive\n"
          ]
        }
      ],
      "source": [
        "import pandas as pd\n",
        "import numpy as np\n",
        "import matplotlib.pyplot as plt\n",
        "from google.colab import drive\n",
        "drive.mount(\"/content/gdrive\", force_remount=True)"
      ]
    },
    {
      "cell_type": "code",
      "source": [
        "data1 = pd.read_excel('/content/gdrive/My Drive/Gigih/Capstone Projects - DA DM4/Data Raw/2012.xlsx')\n",
        "data2 = pd.read_excel('/content/gdrive/My Drive/Gigih/Capstone Projects - DA DM4/Data Raw/2013.xlsx')\n",
        "data3 = pd.read_excel('/content/gdrive/My Drive/Gigih/Capstone Projects - DA DM4/Data Raw/2014.xlsx')\n",
        "data4 = pd.read_excel('/content/gdrive/My Drive/Gigih/Capstone Projects - DA DM4/Data Raw/2015.xlsx')\n",
        "data5 = pd.read_excel('/content/gdrive/My Drive/Gigih/Capstone Projects - DA DM4/Data Raw/2016.xlsx')\n",
        "data6 = pd.read_excel('/content/gdrive/My Drive/Gigih/Capstone Projects - DA DM4/Data Raw/2017.xlsx')\n",
        "data7 = pd.read_excel('/content/gdrive/My Drive/Gigih/Capstone Projects - DA DM4/Data Raw/2018.xlsx')\n",
        "data8 = pd.read_excel('/content/gdrive/My Drive/Gigih/Capstone Projects - DA DM4/Data Raw/2019.xlsx')\n",
        "data9 = pd.read_excel('/content/gdrive/My Drive/Gigih/Capstone Projects - DA DM4/Data Raw/2020.xlsx')\n",
        "data10 = pd.read_excel('/content/gdrive/My Drive/Gigih/Capstone Projects - DA DM4/Data Raw/2021.xlsx')\n",
        "data11 = pd.read_excel('/content/gdrive/My Drive/Gigih/Capstone Projects - DA DM4/Data Raw/2022.xlsx')"
      ],
      "metadata": {
        "id": "daehhpP2Swu1"
      },
      "execution_count": null,
      "outputs": []
    },
    {
      "cell_type": "code",
      "source": [
        "frames = [data1, data2, data3, data4, data5, data6, data7, data8, data9, data10, data11]\n",
        "result = pd.concat(frames).drop_duplicates().reset_index(drop=True)\n",
        "result.to_csv('RaWwData.csv', index=False)\n",
        "result.head()"
      ],
      "metadata": {
        "id": "mPAktvFWV0bm",
        "colab": {
          "base_uri": "https://localhost:8080/",
          "height": 206
        },
        "outputId": "f68dc042-eecc-403a-dac3-682472833e16"
      },
      "execution_count": null,
      "outputs": [
        {
          "output_type": "execute_result",
          "data": {
            "text/plain": [
              "               Tanggal    Tn    Tx  Tavg  RH_avg   RR   ss  ff_x  ddd_x  \\\n",
              "0  2012-01-01 00:00:00  24.0  28.2  24.4    92.0  0.8  0.3   3.0  315.0   \n",
              "1  2012-01-02 00:00:00  23.0  29.2  25.4    88.0  4.9  0.2   NaN    NaN   \n",
              "2  2012-01-03 00:00:00  24.0  29.8  25.6    90.0  0.0  3.1   4.0  360.0   \n",
              "3  2012-01-04 00:00:00  22.0  32.6  26.4    82.0  1.1  4.2   3.0  315.0   \n",
              "4  2012-01-05 00:00:00  23.0  31.6  24.8    89.0  0.0  4.3   NaN    NaN   \n",
              "\n",
              "   ff_avg ddd_car  \n",
              "0     1.0      NW  \n",
              "1     1.0     NaN  \n",
              "2     0.0       N  \n",
              "3     1.0      NW  \n",
              "4     1.0     NaN  "
            ],
            "text/html": [
              "\n",
              "\n",
              "  <div id=\"df-dcbd1c05-bb04-4464-8026-e0dbaddb0464\">\n",
              "    <div class=\"colab-df-container\">\n",
              "      <div>\n",
              "<style scoped>\n",
              "    .dataframe tbody tr th:only-of-type {\n",
              "        vertical-align: middle;\n",
              "    }\n",
              "\n",
              "    .dataframe tbody tr th {\n",
              "        vertical-align: top;\n",
              "    }\n",
              "\n",
              "    .dataframe thead th {\n",
              "        text-align: right;\n",
              "    }\n",
              "</style>\n",
              "<table border=\"1\" class=\"dataframe\">\n",
              "  <thead>\n",
              "    <tr style=\"text-align: right;\">\n",
              "      <th></th>\n",
              "      <th>Tanggal</th>\n",
              "      <th>Tn</th>\n",
              "      <th>Tx</th>\n",
              "      <th>Tavg</th>\n",
              "      <th>RH_avg</th>\n",
              "      <th>RR</th>\n",
              "      <th>ss</th>\n",
              "      <th>ff_x</th>\n",
              "      <th>ddd_x</th>\n",
              "      <th>ff_avg</th>\n",
              "      <th>ddd_car</th>\n",
              "    </tr>\n",
              "  </thead>\n",
              "  <tbody>\n",
              "    <tr>\n",
              "      <th>0</th>\n",
              "      <td>2012-01-01 00:00:00</td>\n",
              "      <td>24.0</td>\n",
              "      <td>28.2</td>\n",
              "      <td>24.4</td>\n",
              "      <td>92.0</td>\n",
              "      <td>0.8</td>\n",
              "      <td>0.3</td>\n",
              "      <td>3.0</td>\n",
              "      <td>315.0</td>\n",
              "      <td>1.0</td>\n",
              "      <td>NW</td>\n",
              "    </tr>\n",
              "    <tr>\n",
              "      <th>1</th>\n",
              "      <td>2012-01-02 00:00:00</td>\n",
              "      <td>23.0</td>\n",
              "      <td>29.2</td>\n",
              "      <td>25.4</td>\n",
              "      <td>88.0</td>\n",
              "      <td>4.9</td>\n",
              "      <td>0.2</td>\n",
              "      <td>NaN</td>\n",
              "      <td>NaN</td>\n",
              "      <td>1.0</td>\n",
              "      <td>NaN</td>\n",
              "    </tr>\n",
              "    <tr>\n",
              "      <th>2</th>\n",
              "      <td>2012-01-03 00:00:00</td>\n",
              "      <td>24.0</td>\n",
              "      <td>29.8</td>\n",
              "      <td>25.6</td>\n",
              "      <td>90.0</td>\n",
              "      <td>0.0</td>\n",
              "      <td>3.1</td>\n",
              "      <td>4.0</td>\n",
              "      <td>360.0</td>\n",
              "      <td>0.0</td>\n",
              "      <td>N</td>\n",
              "    </tr>\n",
              "    <tr>\n",
              "      <th>3</th>\n",
              "      <td>2012-01-04 00:00:00</td>\n",
              "      <td>22.0</td>\n",
              "      <td>32.6</td>\n",
              "      <td>26.4</td>\n",
              "      <td>82.0</td>\n",
              "      <td>1.1</td>\n",
              "      <td>4.2</td>\n",
              "      <td>3.0</td>\n",
              "      <td>315.0</td>\n",
              "      <td>1.0</td>\n",
              "      <td>NW</td>\n",
              "    </tr>\n",
              "    <tr>\n",
              "      <th>4</th>\n",
              "      <td>2012-01-05 00:00:00</td>\n",
              "      <td>23.0</td>\n",
              "      <td>31.6</td>\n",
              "      <td>24.8</td>\n",
              "      <td>89.0</td>\n",
              "      <td>0.0</td>\n",
              "      <td>4.3</td>\n",
              "      <td>NaN</td>\n",
              "      <td>NaN</td>\n",
              "      <td>1.0</td>\n",
              "      <td>NaN</td>\n",
              "    </tr>\n",
              "  </tbody>\n",
              "</table>\n",
              "</div>\n",
              "      <button class=\"colab-df-convert\" onclick=\"convertToInteractive('df-dcbd1c05-bb04-4464-8026-e0dbaddb0464')\"\n",
              "              title=\"Convert this dataframe to an interactive table.\"\n",
              "              style=\"display:none;\">\n",
              "\n",
              "  <svg xmlns=\"http://www.w3.org/2000/svg\" height=\"24px\"viewBox=\"0 0 24 24\"\n",
              "       width=\"24px\">\n",
              "    <path d=\"M0 0h24v24H0V0z\" fill=\"none\"/>\n",
              "    <path d=\"M18.56 5.44l.94 2.06.94-2.06 2.06-.94-2.06-.94-.94-2.06-.94 2.06-2.06.94zm-11 1L8.5 8.5l.94-2.06 2.06-.94-2.06-.94L8.5 2.5l-.94 2.06-2.06.94zm10 10l.94 2.06.94-2.06 2.06-.94-2.06-.94-.94-2.06-.94 2.06-2.06.94z\"/><path d=\"M17.41 7.96l-1.37-1.37c-.4-.4-.92-.59-1.43-.59-.52 0-1.04.2-1.43.59L10.3 9.45l-7.72 7.72c-.78.78-.78 2.05 0 2.83L4 21.41c.39.39.9.59 1.41.59.51 0 1.02-.2 1.41-.59l7.78-7.78 2.81-2.81c.8-.78.8-2.07 0-2.86zM5.41 20L4 18.59l7.72-7.72 1.47 1.35L5.41 20z\"/>\n",
              "  </svg>\n",
              "      </button>\n",
              "\n",
              "\n",
              "\n",
              "    <div id=\"df-6f463e58-160c-4d97-afa8-b54e1d38a594\">\n",
              "      <button class=\"colab-df-quickchart\" onclick=\"quickchart('df-6f463e58-160c-4d97-afa8-b54e1d38a594')\"\n",
              "              title=\"Suggest charts.\"\n",
              "              style=\"display:none;\">\n",
              "\n",
              "<svg xmlns=\"http://www.w3.org/2000/svg\" height=\"24px\"viewBox=\"0 0 24 24\"\n",
              "     width=\"24px\">\n",
              "    <g>\n",
              "        <path d=\"M19 3H5c-1.1 0-2 .9-2 2v14c0 1.1.9 2 2 2h14c1.1 0 2-.9 2-2V5c0-1.1-.9-2-2-2zM9 17H7v-7h2v7zm4 0h-2V7h2v10zm4 0h-2v-4h2v4z\"/>\n",
              "    </g>\n",
              "</svg>\n",
              "      </button>\n",
              "    </div>\n",
              "\n",
              "<style>\n",
              "  .colab-df-quickchart {\n",
              "    background-color: #E8F0FE;\n",
              "    border: none;\n",
              "    border-radius: 50%;\n",
              "    cursor: pointer;\n",
              "    display: none;\n",
              "    fill: #1967D2;\n",
              "    height: 32px;\n",
              "    padding: 0 0 0 0;\n",
              "    width: 32px;\n",
              "  }\n",
              "\n",
              "  .colab-df-quickchart:hover {\n",
              "    background-color: #E2EBFA;\n",
              "    box-shadow: 0px 1px 2px rgba(60, 64, 67, 0.3), 0px 1px 3px 1px rgba(60, 64, 67, 0.15);\n",
              "    fill: #174EA6;\n",
              "  }\n",
              "\n",
              "  [theme=dark] .colab-df-quickchart {\n",
              "    background-color: #3B4455;\n",
              "    fill: #D2E3FC;\n",
              "  }\n",
              "\n",
              "  [theme=dark] .colab-df-quickchart:hover {\n",
              "    background-color: #434B5C;\n",
              "    box-shadow: 0px 1px 3px 1px rgba(0, 0, 0, 0.15);\n",
              "    filter: drop-shadow(0px 1px 2px rgba(0, 0, 0, 0.3));\n",
              "    fill: #FFFFFF;\n",
              "  }\n",
              "</style>\n",
              "\n",
              "    <script>\n",
              "      async function quickchart(key) {\n",
              "        const containerElement = document.querySelector('#' + key);\n",
              "        const charts = await google.colab.kernel.invokeFunction(\n",
              "            'suggestCharts', [key], {});\n",
              "      }\n",
              "    </script>\n",
              "\n",
              "      <script>\n",
              "\n",
              "function displayQuickchartButton(domScope) {\n",
              "  let quickchartButtonEl =\n",
              "    domScope.querySelector('#df-6f463e58-160c-4d97-afa8-b54e1d38a594 button.colab-df-quickchart');\n",
              "  quickchartButtonEl.style.display =\n",
              "    google.colab.kernel.accessAllowed ? 'block' : 'none';\n",
              "}\n",
              "\n",
              "        displayQuickchartButton(document);\n",
              "      </script>\n",
              "      <style>\n",
              "    .colab-df-container {\n",
              "      display:flex;\n",
              "      flex-wrap:wrap;\n",
              "      gap: 12px;\n",
              "    }\n",
              "\n",
              "    .colab-df-convert {\n",
              "      background-color: #E8F0FE;\n",
              "      border: none;\n",
              "      border-radius: 50%;\n",
              "      cursor: pointer;\n",
              "      display: none;\n",
              "      fill: #1967D2;\n",
              "      height: 32px;\n",
              "      padding: 0 0 0 0;\n",
              "      width: 32px;\n",
              "    }\n",
              "\n",
              "    .colab-df-convert:hover {\n",
              "      background-color: #E2EBFA;\n",
              "      box-shadow: 0px 1px 2px rgba(60, 64, 67, 0.3), 0px 1px 3px 1px rgba(60, 64, 67, 0.15);\n",
              "      fill: #174EA6;\n",
              "    }\n",
              "\n",
              "    [theme=dark] .colab-df-convert {\n",
              "      background-color: #3B4455;\n",
              "      fill: #D2E3FC;\n",
              "    }\n",
              "\n",
              "    [theme=dark] .colab-df-convert:hover {\n",
              "      background-color: #434B5C;\n",
              "      box-shadow: 0px 1px 3px 1px rgba(0, 0, 0, 0.15);\n",
              "      filter: drop-shadow(0px 1px 2px rgba(0, 0, 0, 0.3));\n",
              "      fill: #FFFFFF;\n",
              "    }\n",
              "  </style>\n",
              "\n",
              "      <script>\n",
              "        const buttonEl =\n",
              "          document.querySelector('#df-dcbd1c05-bb04-4464-8026-e0dbaddb0464 button.colab-df-convert');\n",
              "        buttonEl.style.display =\n",
              "          google.colab.kernel.accessAllowed ? 'block' : 'none';\n",
              "\n",
              "        async function convertToInteractive(key) {\n",
              "          const element = document.querySelector('#df-dcbd1c05-bb04-4464-8026-e0dbaddb0464');\n",
              "          const dataTable =\n",
              "            await google.colab.kernel.invokeFunction('convertToInteractive',\n",
              "                                                     [key], {});\n",
              "          if (!dataTable) return;\n",
              "\n",
              "          const docLinkHtml = 'Like what you see? Visit the ' +\n",
              "            '<a target=\"_blank\" href=https://colab.research.google.com/notebooks/data_table.ipynb>data table notebook</a>'\n",
              "            + ' to learn more about interactive tables.';\n",
              "          element.innerHTML = '';\n",
              "          dataTable['output_type'] = 'display_data';\n",
              "          await google.colab.output.renderOutput(dataTable, element);\n",
              "          const docLink = document.createElement('div');\n",
              "          docLink.innerHTML = docLinkHtml;\n",
              "          element.appendChild(docLink);\n",
              "        }\n",
              "      </script>\n",
              "    </div>\n",
              "  </div>\n"
            ]
          },
          "metadata": {},
          "execution_count": 28
        }
      ]
    },
    {
      "cell_type": "code",
      "source": [
        "rawdata = pd.read_csv('/content/gdrive/My Drive/Gigih/Capstone Projects - DA DM4/Data Raw/RawDataCapstone.csv')\n",
        "rawdata.head()"
      ],
      "metadata": {
        "colab": {
          "base_uri": "https://localhost:8080/",
          "height": 206
        },
        "id": "8sPKIQ2a_MKc",
        "outputId": "9d5c6148-3b2e-4665-ad06-2443324b32ea"
      },
      "execution_count": null,
      "outputs": [
        {
          "output_type": "execute_result",
          "data": {
            "text/plain": [
              "         Tanggal    Tn    Tx  Tavg  RH_avg   RR   ss  ff_x  ddd_x  ff_avg  \\\n",
              "0  1/1/2012 0:00  24.0  28.2  24.4    92.0  0.8  0.3   3.0  315.0     1.0   \n",
              "1  1/2/2012 0:00  23.0  29.2  25.4    88.0  4.9  0.2   NaN    NaN     1.0   \n",
              "2  1/3/2012 0:00  24.0  29.8  25.6    90.0  0.0  3.1   4.0  360.0     0.0   \n",
              "3  1/4/2012 0:00  22.0  32.6  26.4    82.0  1.1  4.2   3.0  315.0     1.0   \n",
              "4  1/5/2012 0:00  23.0  31.6  24.8    89.0  0.0  4.3   NaN    NaN     1.0   \n",
              "\n",
              "  ddd_car  \n",
              "0      NW  \n",
              "1     NaN  \n",
              "2       N  \n",
              "3      NW  \n",
              "4     NaN  "
            ],
            "text/html": [
              "\n",
              "\n",
              "  <div id=\"df-368829b3-5d2d-46f8-a9c2-4fc0bb89ac6f\">\n",
              "    <div class=\"colab-df-container\">\n",
              "      <div>\n",
              "<style scoped>\n",
              "    .dataframe tbody tr th:only-of-type {\n",
              "        vertical-align: middle;\n",
              "    }\n",
              "\n",
              "    .dataframe tbody tr th {\n",
              "        vertical-align: top;\n",
              "    }\n",
              "\n",
              "    .dataframe thead th {\n",
              "        text-align: right;\n",
              "    }\n",
              "</style>\n",
              "<table border=\"1\" class=\"dataframe\">\n",
              "  <thead>\n",
              "    <tr style=\"text-align: right;\">\n",
              "      <th></th>\n",
              "      <th>Tanggal</th>\n",
              "      <th>Tn</th>\n",
              "      <th>Tx</th>\n",
              "      <th>Tavg</th>\n",
              "      <th>RH_avg</th>\n",
              "      <th>RR</th>\n",
              "      <th>ss</th>\n",
              "      <th>ff_x</th>\n",
              "      <th>ddd_x</th>\n",
              "      <th>ff_avg</th>\n",
              "      <th>ddd_car</th>\n",
              "    </tr>\n",
              "  </thead>\n",
              "  <tbody>\n",
              "    <tr>\n",
              "      <th>0</th>\n",
              "      <td>1/1/2012 0:00</td>\n",
              "      <td>24.0</td>\n",
              "      <td>28.2</td>\n",
              "      <td>24.4</td>\n",
              "      <td>92.0</td>\n",
              "      <td>0.8</td>\n",
              "      <td>0.3</td>\n",
              "      <td>3.0</td>\n",
              "      <td>315.0</td>\n",
              "      <td>1.0</td>\n",
              "      <td>NW</td>\n",
              "    </tr>\n",
              "    <tr>\n",
              "      <th>1</th>\n",
              "      <td>1/2/2012 0:00</td>\n",
              "      <td>23.0</td>\n",
              "      <td>29.2</td>\n",
              "      <td>25.4</td>\n",
              "      <td>88.0</td>\n",
              "      <td>4.9</td>\n",
              "      <td>0.2</td>\n",
              "      <td>NaN</td>\n",
              "      <td>NaN</td>\n",
              "      <td>1.0</td>\n",
              "      <td>NaN</td>\n",
              "    </tr>\n",
              "    <tr>\n",
              "      <th>2</th>\n",
              "      <td>1/3/2012 0:00</td>\n",
              "      <td>24.0</td>\n",
              "      <td>29.8</td>\n",
              "      <td>25.6</td>\n",
              "      <td>90.0</td>\n",
              "      <td>0.0</td>\n",
              "      <td>3.1</td>\n",
              "      <td>4.0</td>\n",
              "      <td>360.0</td>\n",
              "      <td>0.0</td>\n",
              "      <td>N</td>\n",
              "    </tr>\n",
              "    <tr>\n",
              "      <th>3</th>\n",
              "      <td>1/4/2012 0:00</td>\n",
              "      <td>22.0</td>\n",
              "      <td>32.6</td>\n",
              "      <td>26.4</td>\n",
              "      <td>82.0</td>\n",
              "      <td>1.1</td>\n",
              "      <td>4.2</td>\n",
              "      <td>3.0</td>\n",
              "      <td>315.0</td>\n",
              "      <td>1.0</td>\n",
              "      <td>NW</td>\n",
              "    </tr>\n",
              "    <tr>\n",
              "      <th>4</th>\n",
              "      <td>1/5/2012 0:00</td>\n",
              "      <td>23.0</td>\n",
              "      <td>31.6</td>\n",
              "      <td>24.8</td>\n",
              "      <td>89.0</td>\n",
              "      <td>0.0</td>\n",
              "      <td>4.3</td>\n",
              "      <td>NaN</td>\n",
              "      <td>NaN</td>\n",
              "      <td>1.0</td>\n",
              "      <td>NaN</td>\n",
              "    </tr>\n",
              "  </tbody>\n",
              "</table>\n",
              "</div>\n",
              "      <button class=\"colab-df-convert\" onclick=\"convertToInteractive('df-368829b3-5d2d-46f8-a9c2-4fc0bb89ac6f')\"\n",
              "              title=\"Convert this dataframe to an interactive table.\"\n",
              "              style=\"display:none;\">\n",
              "\n",
              "  <svg xmlns=\"http://www.w3.org/2000/svg\" height=\"24px\"viewBox=\"0 0 24 24\"\n",
              "       width=\"24px\">\n",
              "    <path d=\"M0 0h24v24H0V0z\" fill=\"none\"/>\n",
              "    <path d=\"M18.56 5.44l.94 2.06.94-2.06 2.06-.94-2.06-.94-.94-2.06-.94 2.06-2.06.94zm-11 1L8.5 8.5l.94-2.06 2.06-.94-2.06-.94L8.5 2.5l-.94 2.06-2.06.94zm10 10l.94 2.06.94-2.06 2.06-.94-2.06-.94-.94-2.06-.94 2.06-2.06.94z\"/><path d=\"M17.41 7.96l-1.37-1.37c-.4-.4-.92-.59-1.43-.59-.52 0-1.04.2-1.43.59L10.3 9.45l-7.72 7.72c-.78.78-.78 2.05 0 2.83L4 21.41c.39.39.9.59 1.41.59.51 0 1.02-.2 1.41-.59l7.78-7.78 2.81-2.81c.8-.78.8-2.07 0-2.86zM5.41 20L4 18.59l7.72-7.72 1.47 1.35L5.41 20z\"/>\n",
              "  </svg>\n",
              "      </button>\n",
              "\n",
              "\n",
              "\n",
              "    <div id=\"df-49caeecf-c16a-4a1c-8037-5ba683501bd3\">\n",
              "      <button class=\"colab-df-quickchart\" onclick=\"quickchart('df-49caeecf-c16a-4a1c-8037-5ba683501bd3')\"\n",
              "              title=\"Suggest charts.\"\n",
              "              style=\"display:none;\">\n",
              "\n",
              "<svg xmlns=\"http://www.w3.org/2000/svg\" height=\"24px\"viewBox=\"0 0 24 24\"\n",
              "     width=\"24px\">\n",
              "    <g>\n",
              "        <path d=\"M19 3H5c-1.1 0-2 .9-2 2v14c0 1.1.9 2 2 2h14c1.1 0 2-.9 2-2V5c0-1.1-.9-2-2-2zM9 17H7v-7h2v7zm4 0h-2V7h2v10zm4 0h-2v-4h2v4z\"/>\n",
              "    </g>\n",
              "</svg>\n",
              "      </button>\n",
              "    </div>\n",
              "\n",
              "<style>\n",
              "  .colab-df-quickchart {\n",
              "    background-color: #E8F0FE;\n",
              "    border: none;\n",
              "    border-radius: 50%;\n",
              "    cursor: pointer;\n",
              "    display: none;\n",
              "    fill: #1967D2;\n",
              "    height: 32px;\n",
              "    padding: 0 0 0 0;\n",
              "    width: 32px;\n",
              "  }\n",
              "\n",
              "  .colab-df-quickchart:hover {\n",
              "    background-color: #E2EBFA;\n",
              "    box-shadow: 0px 1px 2px rgba(60, 64, 67, 0.3), 0px 1px 3px 1px rgba(60, 64, 67, 0.15);\n",
              "    fill: #174EA6;\n",
              "  }\n",
              "\n",
              "  [theme=dark] .colab-df-quickchart {\n",
              "    background-color: #3B4455;\n",
              "    fill: #D2E3FC;\n",
              "  }\n",
              "\n",
              "  [theme=dark] .colab-df-quickchart:hover {\n",
              "    background-color: #434B5C;\n",
              "    box-shadow: 0px 1px 3px 1px rgba(0, 0, 0, 0.15);\n",
              "    filter: drop-shadow(0px 1px 2px rgba(0, 0, 0, 0.3));\n",
              "    fill: #FFFFFF;\n",
              "  }\n",
              "</style>\n",
              "\n",
              "    <script>\n",
              "      async function quickchart(key) {\n",
              "        const containerElement = document.querySelector('#' + key);\n",
              "        const charts = await google.colab.kernel.invokeFunction(\n",
              "            'suggestCharts', [key], {});\n",
              "      }\n",
              "    </script>\n",
              "\n",
              "      <script>\n",
              "\n",
              "function displayQuickchartButton(domScope) {\n",
              "  let quickchartButtonEl =\n",
              "    domScope.querySelector('#df-49caeecf-c16a-4a1c-8037-5ba683501bd3 button.colab-df-quickchart');\n",
              "  quickchartButtonEl.style.display =\n",
              "    google.colab.kernel.accessAllowed ? 'block' : 'none';\n",
              "}\n",
              "\n",
              "        displayQuickchartButton(document);\n",
              "      </script>\n",
              "      <style>\n",
              "    .colab-df-container {\n",
              "      display:flex;\n",
              "      flex-wrap:wrap;\n",
              "      gap: 12px;\n",
              "    }\n",
              "\n",
              "    .colab-df-convert {\n",
              "      background-color: #E8F0FE;\n",
              "      border: none;\n",
              "      border-radius: 50%;\n",
              "      cursor: pointer;\n",
              "      display: none;\n",
              "      fill: #1967D2;\n",
              "      height: 32px;\n",
              "      padding: 0 0 0 0;\n",
              "      width: 32px;\n",
              "    }\n",
              "\n",
              "    .colab-df-convert:hover {\n",
              "      background-color: #E2EBFA;\n",
              "      box-shadow: 0px 1px 2px rgba(60, 64, 67, 0.3), 0px 1px 3px 1px rgba(60, 64, 67, 0.15);\n",
              "      fill: #174EA6;\n",
              "    }\n",
              "\n",
              "    [theme=dark] .colab-df-convert {\n",
              "      background-color: #3B4455;\n",
              "      fill: #D2E3FC;\n",
              "    }\n",
              "\n",
              "    [theme=dark] .colab-df-convert:hover {\n",
              "      background-color: #434B5C;\n",
              "      box-shadow: 0px 1px 3px 1px rgba(0, 0, 0, 0.15);\n",
              "      filter: drop-shadow(0px 1px 2px rgba(0, 0, 0, 0.3));\n",
              "      fill: #FFFFFF;\n",
              "    }\n",
              "  </style>\n",
              "\n",
              "      <script>\n",
              "        const buttonEl =\n",
              "          document.querySelector('#df-368829b3-5d2d-46f8-a9c2-4fc0bb89ac6f button.colab-df-convert');\n",
              "        buttonEl.style.display =\n",
              "          google.colab.kernel.accessAllowed ? 'block' : 'none';\n",
              "\n",
              "        async function convertToInteractive(key) {\n",
              "          const element = document.querySelector('#df-368829b3-5d2d-46f8-a9c2-4fc0bb89ac6f');\n",
              "          const dataTable =\n",
              "            await google.colab.kernel.invokeFunction('convertToInteractive',\n",
              "                                                     [key], {});\n",
              "          if (!dataTable) return;\n",
              "\n",
              "          const docLinkHtml = 'Like what you see? Visit the ' +\n",
              "            '<a target=\"_blank\" href=https://colab.research.google.com/notebooks/data_table.ipynb>data table notebook</a>'\n",
              "            + ' to learn more about interactive tables.';\n",
              "          element.innerHTML = '';\n",
              "          dataTable['output_type'] = 'display_data';\n",
              "          await google.colab.output.renderOutput(dataTable, element);\n",
              "          const docLink = document.createElement('div');\n",
              "          docLink.innerHTML = docLinkHtml;\n",
              "          element.appendChild(docLink);\n",
              "        }\n",
              "      </script>\n",
              "    </div>\n",
              "  </div>\n"
            ]
          },
          "metadata": {},
          "execution_count": 29
        }
      ]
    },
    {
      "cell_type": "markdown",
      "source": [],
      "metadata": {
        "id": "6JyQsWtjV0Tc"
      }
    },
    {
      "cell_type": "code",
      "source": [
        "rawdata['Tanggal'] = pd.to_datetime(rawdata['Tanggal'])\n",
        "#rawdata.dtypes\n",
        "#rawdata.head()\n",
        "rawdata.info()"
      ],
      "metadata": {
        "colab": {
          "base_uri": "https://localhost:8080/"
        },
        "id": "n_besqrxhekq",
        "outputId": "08d72a6c-f3e4-4f82-9834-b33cd28cead2"
      },
      "execution_count": null,
      "outputs": [
        {
          "output_type": "stream",
          "name": "stdout",
          "text": [
            "<class 'pandas.core.frame.DataFrame'>\n",
            "RangeIndex: 3821 entries, 0 to 3820\n",
            "Data columns (total 11 columns):\n",
            " #   Column   Non-Null Count  Dtype         \n",
            "---  ------   --------------  -----         \n",
            " 0   Tanggal  3821 non-null   datetime64[ns]\n",
            " 1   Tn       3550 non-null   float64       \n",
            " 2   Tx       3623 non-null   float64       \n",
            " 3   Tavg     3675 non-null   float64       \n",
            " 4   RH_avg   3673 non-null   float64       \n",
            " 5   RR       2655 non-null   float64       \n",
            " 6   ss       3646 non-null   float64       \n",
            " 7   ff_x     3758 non-null   float64       \n",
            " 8   ddd_x    3766 non-null   float64       \n",
            " 9   ff_avg   3769 non-null   float64       \n",
            " 10  ddd_car  3767 non-null   object        \n",
            "dtypes: datetime64[ns](1), float64(9), object(1)\n",
            "memory usage: 328.5+ KB\n"
          ]
        }
      ]
    },
    {
      "cell_type": "code",
      "source": [
        "rawdata.isna().sum()"
      ],
      "metadata": {
        "colab": {
          "base_uri": "https://localhost:8080/"
        },
        "id": "dQwnmimqlehD",
        "outputId": "a8e2c4b2-5ac4-43ce-c902-7b73b5d290b3"
      },
      "execution_count": null,
      "outputs": [
        {
          "output_type": "execute_result",
          "data": {
            "text/plain": [
              "Tanggal       0\n",
              "Tn          271\n",
              "Tx          198\n",
              "Tavg        146\n",
              "RH_avg      148\n",
              "RR         1166\n",
              "ss          175\n",
              "ff_x         63\n",
              "ddd_x        55\n",
              "ff_avg       52\n",
              "ddd_car      54\n",
              "dtype: int64"
            ]
          },
          "metadata": {},
          "execution_count": 32
        }
      ]
    },
    {
      "cell_type": "code",
      "source": [
        "plt.boxplot(rawdata[\"ss\"])"
      ],
      "metadata": {
        "id": "tLllPRxXQ7HA",
        "outputId": "bd008745-17d0-4792-e641-49a2f58292a5",
        "colab": {
          "base_uri": "https://localhost:8080/",
          "height": 578
        }
      },
      "execution_count": null,
      "outputs": [
        {
          "output_type": "execute_result",
          "data": {
            "text/plain": [
              "{'whiskers': [<matplotlib.lines.Line2D at 0x7f42e46b80a0>,\n",
              "  <matplotlib.lines.Line2D at 0x7f42e46b8340>],\n",
              " 'caps': [<matplotlib.lines.Line2D at 0x7f42e46b85e0>,\n",
              "  <matplotlib.lines.Line2D at 0x7f42e46b8880>],\n",
              " 'boxes': [<matplotlib.lines.Line2D at 0x7f42e46d7dc0>],\n",
              " 'medians': [<matplotlib.lines.Line2D at 0x7f42e46b8b20>],\n",
              " 'fliers': [<matplotlib.lines.Line2D at 0x7f42e46b8dc0>],\n",
              " 'means': []}"
            ]
          },
          "metadata": {},
          "execution_count": 33
        },
        {
          "output_type": "display_data",
          "data": {
            "text/plain": [
              "<Figure size 640x480 with 1 Axes>"
            ],
            "image/png": "[encoded data removed]"
          },
          "metadata": {}
        }
      ]
    },
    {
      "cell_type": "code",
      "source": [
        "rawdata['ddd_car'].unique()"
      ],
      "metadata": {
        "colab": {
          "base_uri": "https://localhost:8080/"
        },
        "id": "fm1aOOfQAh3m",
        "outputId": "628fa592-f246-4e40-a091-fc99493f9dcb"
      },
      "execution_count": null,
      "outputs": [
        {
          "output_type": "execute_result",
          "data": {
            "text/plain": [
              "array(['NW', nan, 'N', 'W', 'S', 'SW', 'NE', 'E', 'SE', 'N\\xa0', 'S\\xa0',\n",
              "       'C'], dtype=object)"
            ]
          },
          "metadata": {},
          "execution_count": 34
        }
      ]
    },
    {
      "cell_type": "code",
      "source": [
        "tn=round(rawdata[\"Tn\"].mean(),1)\n",
        "tx=round(rawdata[\"Tx\"].mean(),1)\n",
        "tavg=round(rawdata[\"Tavg\"].mean(),1)\n",
        "rhavg=round(rawdata[\"RH_avg\"].mean(),1)\n",
        "rr=round(rawdata[\"RR\"].mean(),1)\n",
        "ss=round(rawdata[\"ss\"].mean(),1)\n",
        "ffx=round(rawdata[\"ff_x\"].mean(),1)\n",
        "dddx=round(rawdata[\"ddd_x\"].mean(),1)\n",
        "ffavg=round(rawdata[\"ff_avg\"].mean(),1)"
      ],
      "metadata": {
        "id": "F4dHSls_UEQt"
      },
      "execution_count": null,
      "outputs": []
    },
    {
      "cell_type": "code",
      "source": [
        "rawdata['Tn'].fillna(tn, inplace=True)\n",
        "rawdata['Tx'].fillna(tx, inplace=True)\n",
        "rawdata['Tavg'].fillna(tavg, inplace=True)\n",
        "rawdata['RH_avg'].fillna(rhavg, inplace=True)\n",
        "rawdata['RR'].fillna(rr, inplace=True)\n",
        "rawdata['ss'].fillna(ss, inplace=True)\n",
        "rawdata['ff_x'].fillna(ffx, inplace=True)\n",
        "rawdata['ddd_x'].fillna(dddx, inplace=True)\n",
        "rawdata['ff_avg'].fillna(ffavg, inplace=True)\n",
        "#rawdata['ddd_car'] = np.where(rawdata['ddd_car']=='NaN','0', rawdata['ddd_car'])"
      ],
      "metadata": {
        "id": "nfyJwvWfAyQS"
      },
      "execution_count": null,
      "outputs": []
    },
    {
      "cell_type": "code",
      "source": [
        "rawdata['ss'].max()"
      ],
      "metadata": {
        "colab": {
          "base_uri": "https://localhost:8080/"
        },
        "id": "tCxDJw2NIxt3",
        "outputId": "0c5f7f14-6216-4955-ea25-0ce22a5777ee"
      },
      "execution_count": null,
      "outputs": [
        {
          "output_type": "execute_result",
          "data": {
            "text/plain": [
              "11.2"
            ]
          },
          "metadata": {},
          "execution_count": 37
        }
      ]
    },
    {
      "cell_type": "code",
      "source": [
        "plt.boxplot(rawdata[\"ss\"])"
      ],
      "metadata": {
        "colab": {
          "base_uri": "https://localhost:8080/",
          "height": 578
        },
        "id": "sG53z1zpCpiw",
        "outputId": "96c29a50-6bbb-406e-ad9d-a37abfe1f2b5"
      },
      "execution_count": null,
      "outputs": [
        {
          "output_type": "execute_result",
          "data": {
            "text/plain": [
              "{'whiskers': [<matplotlib.lines.Line2D at 0x7f42e6774c10>,\n",
              "  <matplotlib.lines.Line2D at 0x7f42e6774eb0>],\n",
              " 'caps': [<matplotlib.lines.Line2D at 0x7f42e6775150>,\n",
              "  <matplotlib.lines.Line2D at 0x7f42e67753f0>],\n",
              " 'boxes': [<matplotlib.lines.Line2D at 0x7f42e6774970>],\n",
              " 'medians': [<matplotlib.lines.Line2D at 0x7f42e6775690>],\n",
              " 'fliers': [<matplotlib.lines.Line2D at 0x7f42e6775930>],\n",
              " 'means': []}"
            ]
          },
          "metadata": {},
          "execution_count": 13
        },
        {
          "output_type": "display_data",
          "data": {
            "text/plain": [
              "<Figure size 640x480 with 1 Axes>"
            ],
            "image/png": "[encoded data removed]"
          },
          "metadata": {}
        }
      ]
    },
    {
      "cell_type": "code",
      "source": [
        "rawdata.isna().sum()"
      ],
      "metadata": {
        "colab": {
          "base_uri": "https://localhost:8080/"
        },
        "id": "pHH0rjUbL2bx",
        "outputId": "7ae74b88-1c3b-4a39-e350-0fc1e73b4ddd"
      },
      "execution_count": null,
      "outputs": [
        {
          "output_type": "execute_result",
          "data": {
            "text/plain": [
              "Tanggal     0\n",
              "Tn          0\n",
              "Tx          0\n",
              "Tavg        0\n",
              "RH_avg      0\n",
              "RR          0\n",
              "ss          0\n",
              "ff_x        0\n",
              "ddd_x       0\n",
              "ff_avg      0\n",
              "ddd_car    54\n",
              "dtype: int64"
            ]
          },
          "metadata": {},
          "execution_count": 24
        }
      ]
    },
    {
      "cell_type": "code",
      "source": [
        "rawdata.to_csv('CleanDataCapstone.csv', index=False)"
      ],
      "metadata": {
        "id": "tzlutDeNK6Zr",
        "outputId": "c85febe0-cc44-49e2-e7b1-ff388eedee19",
        "colab": {
          "base_uri": "https://localhost:8080/",
          "height": 166
        }
      },
      "execution_count": null,
      "outputs": [
        {
          "output_type": "error",
          "ename": "NameError",
          "evalue": "ignored",
          "traceback": [
            "\u001b[0;31m---------------------------------------------------------------------------\u001b[0m",
            "\u001b[0;31mNameError\u001b[0m                                 Traceback (most recent call last)",
            "\u001b[0;32m<ipython-input-1-fc21f90b3a06>\u001b[0m in \u001b[0;36m<module>\u001b[0;34m()\u001b[0m\n\u001b[0;32m----> 1\u001b[0;31m \u001b[0mrawdata\u001b[0m\u001b[0;34m.\u001b[0m\u001b[0mto_csv\u001b[0m\u001b[0;34m(\u001b[0m\u001b[0;34m'CleanDataCapstone.csv'\u001b[0m\u001b[0;34m,\u001b[0m \u001b[0mindex\u001b[0m\u001b[0;34m=\u001b[0m\u001b[0;32mFalse\u001b[0m\u001b[0;34m)\u001b[0m\u001b[0;34m\u001b[0m\u001b[0;34m\u001b[0m\u001b[0m\n\u001b[0m",
            "\u001b[0;31mNameError\u001b[0m: name 'rawdata' is not defined"
          ]
        }
      ]
    },
    {
      "cell_type": "code",
      "source": [
        "rawdata['ff_avg'].min()"
      ],
      "metadata": {
        "colab": {
          "base_uri": "https://localhost:8080/"
        },
        "id": "IXsZTGUVUFh0",
        "outputId": "c8183e40-b89a-47bb-8c27-6906a2ab40a6"
      },
      "execution_count": null,
      "outputs": [
        {
          "output_type": "execute_result",
          "data": {
            "text/plain": [
              "0.0"
            ]
          },
          "metadata": {},
          "execution_count": 25
        }
      ]
    }
  ]
}